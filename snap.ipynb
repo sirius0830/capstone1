{
  "nbformat": 4,
  "nbformat_minor": 0,
  "metadata": {
    "colab": {
      "provenance": [],
      "machine_shape": "hm",
      "mount_file_id": "1FP5A2I1LylW0H_KfPi1PpR40GM2pEeP4",
      "authorship_tag": "ABX9TyNrsRa2m7EcGOi1fURRrGfB",
      "include_colab_link": true
    },
    "kernelspec": {
      "name": "python3",
      "display_name": "Python 3"
    },
    "language_info": {
      "name": "python"
    },
    "accelerator": "TPU",
    "gpuClass": "premium"
  },
  "cells": [
    {
      "cell_type": "markdown",
      "metadata": {
        "id": "view-in-github",
        "colab_type": "text"
      },
      "source": [
        "<a href=\"https://colab.research.google.com/github/sirius0830/capstone1/blob/master/snap.ipynb\" target=\"_parent\"><img src=\"https://colab.research.google.com/assets/colab-badge.svg\" alt=\"Open In Colab\"/></a>"
      ]
    },
    {
      "cell_type": "code",
      "execution_count": null,
      "metadata": {
        "id": "b7fL8IW9TdWQ"
      },
      "outputs": [],
      "source": [
        "# !pip install selenium\n",
        "# !apt-get update\n",
        "# !apt install chromium-chromedriver\n",
        "# !cp /usr/lib/chromium-browser/chromedriver /usr/bin"
      ]
    },
    {
      "cell_type": "code",
      "source": [
        "# from google.colab import drive\n",
        "# drive.mount('/content/drive')"
      ],
      "metadata": {
        "id": "u1Ar63NGTnuN"
      },
      "execution_count": null,
      "outputs": []
    },
    {
      "cell_type": "code",
      "source": [
        "from selenium import webdriver\n",
        "from selenium.webdriver.common.by import By\n",
        "from urllib.request import urlretrieve\n",
        "import os\n",
        "import time\n",
        "from bs4 import BeautifulSoup\n",
        "import warnings\n",
        "warnings.filterwarnings(\"ignore\", category=UserWarning, module='bs4')\n",
        "from selenium.webdriver.common.keys import Keys\n",
        "from selenium.common.exceptions import TimeoutException\n",
        "import pandas as pd\n",
        "from selenium.webdriver.common import keys\n",
        "\n",
        "options = webdriver.ChromeOptions()\n",
        "options.add_argument('--headless')        # Head-less 설정\n",
        "options.add_argument('--no-sandbox')\n",
        "options.add_argument('--disable-dev-shm-usage')\n",
        "driver = webdriver.Chrome('chromedriver', options=options)\n",
        "\n",
        "# 현재 경로 확인\n",
        "#print(os.getcwd())\n",
        "\n",
        "#구글드라이브로 경로 설정\n",
        "os.chdir(\"/content/drive/MyDrive\")\n",
        "print(os.getcwd())"
      ],
      "metadata": {
        "id": "yANvGYHJTn1k"
      },
      "execution_count": null,
      "outputs": []
    },
    {
      "cell_type": "code",
      "source": [
        "# 크롤링 시작 페이지\n",
        "page_num = 1\n",
        "# 마지막 페이지\n",
        "last_page_num = 2\n",
        "\n",
        "# 날짜\n",
        "month = 1\n",
        "date_list = []\n",
        "link_list = []\n",
        "\n",
        "while month <= 12:\n",
        "  while page_num < last_page_num:\n",
        "       \n",
        "    url = \"https://www.musinsa.com/mz/streetsnap?_y=2018&area=002&_mon={}&gender=&p={}#listStart\".format(month, page_num)\n",
        "    driver.get(url)\n",
        "    driver.implicitly_wait(10)\n",
        "\n",
        "    img_num = 1\n",
        "\n",
        "    # 해당 사이트 url 정보 가져옴(html)\n",
        "    html = driver.page_source\n",
        "    # BeautifulSoup 파싱\n",
        "    soup = BeautifulSoup(html,'html.parser')\n",
        "    item_list = soup.find_all('span',{'class':'division'})\n",
        "        \n",
        "    #  날짜 리스트\n",
        "    # for item in item_list:\n",
        "    #   date_list.append(item)\n",
        "    \n",
        "    # 한 페이지에 60개\n",
        "    while img_num <= 60:\n",
        "      driver.find_element(By.CSS_SELECTOR,'#wrapper > div.bottom-column.column.clearfix > div.main-content-wrapper > div.section > div > div > div.list-box.box > ul > li:nth-child({}) > div.articleImg > a'.format(img_num)).send_keys(Keys.ENTER)\n",
        "      img_url = driver.find_elements(By.CSS_SELECTOR, '.lbox')[0].get_attribute('href')\n",
        "      \n",
        "      # 해당 사이트 url 정보 가져옴(html)\n",
        "      html = driver.page_source\n",
        "      # BeautifulSoup 파싱\n",
        "      soup = BeautifulSoup(html,'html.parser')\n",
        "\n",
        "      link_list.append(img_url)\n",
        "\n",
        "\n",
        "      try:\n",
        "        # img_url에서 이미지 다운로드, snap 폴더에 '월-page_num-img_num.jpg' 형태로 저장\n",
        "          urlretrieve(img_url, '{}/{}월_{}페이지_{}.jpg'.format('snap',month, page_num, img_num)) \n",
        "            \n",
        "      except: # 오류 시 오류 선언하고 pass\n",
        "          print('some error!(page num: {}, img num: {})'.format(page_num, img_num))\n",
        "          pass\n",
        "        \n",
        "      # 뒤로가기 대신 url 재접속을 사용(오류 최소화)\n",
        "      try:\n",
        "        driver.get(url)\n",
        "        driver.implicitly_wait(10)\n",
        "        img_num += 1\n",
        "\n",
        "      except TimeoutException as ex:\n",
        "        print(ex.Message)\n",
        "        driver.navigate().refresh()\n",
        "            \n",
        "    page_num += 1\n",
        "  # 다음달 넘어가면서 1페이지로 초기화\n",
        "  month += 1\n",
        "  page_num = 1\n",
        "  \n",
        "# 날짜 엑셀 파일로 정리\n",
        "# df = pd.DataFrame({'날짜': date_list})\n",
        "# df.to_csv('날짜.csv', encoding='utf-8-sig')\n",
        "\n",
        "# 링크 csv 파일로 정리\n",
        "df = pd.DataFrame({'사진 링크': link_list})\n",
        "df.to_csv('링크.csv', encoding='utf-8-sig')"
      ],
      "metadata": {
        "id": "SBQYg4CnFi2k",
        "colab": {
          "base_uri": "https://localhost:8080/"
        },
        "outputId": "0c4f5377-64d1-418f-b77d-a787d38a15d9"
      },
      "execution_count": null,
      "outputs": [
        {
          "output_type": "stream",
          "name": "stdout",
          "text": [
            "some error!(page num: 1, img num: 52)\n"
          ]
        }
      ]
    }
  ]
}