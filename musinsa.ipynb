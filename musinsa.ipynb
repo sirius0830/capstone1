{
  "nbformat": 4,
  "nbformat_minor": 0,
  "metadata": {
    "colab": {
      "provenance": [],
      "machine_shape": "hm",
      "mount_file_id": "1W-EMxKBO8lOGmDpoVN1Q59ZdoUj7MLn2",
      "authorship_tag": "ABX9TyNrCNDS4f7rIqoQHUKgkq8x"
    },
    "kernelspec": {
      "name": "python3",
      "display_name": "Python 3"
    },
    "language_info": {
      "name": "python"
    },
    "accelerator": "GPU",
    "gpuClass": "premium"
  },
  "cells": [
    {
      "cell_type": "code",
      "source": [
        "# !pip install selenium\n",
        "# !apt-get update\n",
        "# !apt install chromium-chromedriver\n",
        "# !cp /usr/lib/chromium-browser/chromedriver /usr/bin"
      ],
      "metadata": {
        "id": "36CXp5xxvH3j"
      },
      "execution_count": null,
      "outputs": []
    },
    {
      "cell_type": "code",
      "source": [
        "# from google.colab import drive\n",
        "# drive.mount('/content/drive')"
      ],
      "metadata": {
        "id": "y-VELqZXvwsg"
      },
      "execution_count": null,
      "outputs": []
    },
    {
      "cell_type": "code",
      "source": [
        "from selenium import webdriver\n",
        "from selenium.webdriver.common.by import By\n",
        "from urllib.request import urlretrieve\n",
        "import os\n",
        "import time\n",
        "from bs4 import BeautifulSoup\n",
        "import warnings\n",
        "warnings.filterwarnings(\"ignore\", category=UserWarning, module='bs4')\n",
        "from selenium.webdriver.common.keys import Keys\n",
        "from selenium.common.exceptions import TimeoutException\n",
        "from selenium.webdriver.common import keys\n",
        "\n",
        "options = webdriver.ChromeOptions()\n",
        "options.add_argument('--headless')        # Head-less 설정\n",
        "options.add_argument('--no-sandbox')\n",
        "options.add_argument('--disable-dev-shm-usage')\n",
        "driver = webdriver.Chrome('chromedriver', options=options)\n",
        "\n",
        "# 현재 경로 확인\n",
        "#print(os.getcwd())\n",
        "\n",
        "#구글드라이브로 경로 설정\n",
        "os.chdir(\"/content/drive/MyDrive\")\n",
        "print(os.getcwd())\n"
      ],
      "metadata": {
        "id": "CT_qxfVFvdeK",
        "colab": {
          "base_uri": "https://localhost:8080/"
        },
        "outputId": "da39e167-c646-4967-e280-30cb43b94cba"
      },
      "execution_count": null,
      "outputs": [
        {
          "output_type": "stream",
          "name": "stdout",
          "text": [
            "/content/drive/MyDrive\n"
          ]
        }
      ]
    },
    {
      "cell_type": "code",
      "source": [
        "\n",
        "#'001001','001010','001005', '001004', '001002',\n",
        "#'002013', '002012','002021','002003','002001','002023' / '002007''002024','002009','002016', 오류\n",
        "#'003002', / '003005', '003009', '022'오류\n",
        "Top = ['001011']\n",
        "Outer = ['002007''002024','002009','002016']\n",
        "Pants = [ '022']\n",
        "Onepiece = ['020']\n",
        "\n",
        "styles = [Onepiece]\n",
        "\n",
        "#상의 Top\n",
        "\t#반팔 001001\n",
        "\t#긴팔 001010, 001005\n",
        "\t#후드티 001004\n",
        "\t#셔츠 001002\n",
        "\t#민소매 001011\n",
        "\n",
        "#아우터 Outer\n",
        "\t#패딩 002013, 002012\n",
        "\t#코트 002007, 002024, 002009\n",
        "\t#베스트 002021, 002016\n",
        "\t#블레이저 002003\n",
        "\t#기타 재킷 002001, 002023\n",
        "\n",
        "#바지 Pants\n",
        "\t#데님 003002\n",
        "\t#레깅스 003005\n",
        "\t#숏 팬츠 003009\n",
        "\t#치마 022\n",
        "\n",
        "#원피스 020 Onepiece\n",
        "\n",
        "#크롤링 시작 페이지\n",
        "page_num = 2\n",
        "\n",
        "#마지막 페이지\n",
        "last_page_num = 3\n",
        "\n",
        "for style in styles:\n",
        "  for i in range(len(style)):\n",
        "    #while page_num < last_page_num:\n",
        "       \n",
        "        url = \"https://www.musinsa.com/categories/item/{}?d_cat_cd={}&brand=&list_kind=small&sort=pop_category&sub_sort=&page={}&display_cnt=90&group_sale=&exclusive_yn=&sale_goods=&timesale_yn=&ex_soldout=&kids=&color=&price1=&price2=&shoeSizeOption=&tags=&campaign_id=&includeKeywords=&measure=\".format(style[i],style[i],page_num)\n",
        "        driver.get(url)\n",
        "        driver.implicitly_wait(10)\n",
        "\n",
        "        img_num = 1\n",
        "    \n",
        "        #한 페이지에 90개\n",
        "        while img_num <= 90:\n",
        "            driver.find_element(By.CSS_SELECTOR,'#searchList > li:nth-child({}) > div.li_inner > div.list_img > a'.format(img_num)).send_keys(Keys.ENTER)\n",
        "            img_url = driver.find_elements(By.CSS_SELECTOR, '#bigimg')[0].get_attribute('src')\n",
        "\n",
        "            if not os.path.isdir(str(style[i])):\n",
        "                os.mkdir(str(style[i]))\n",
        "                \n",
        "            try:\n",
        "              # img_url에서 이미지 다운로드, style[i] 폴더에 'style[i]-page_num-img_num.jpg' 형태로 저장 / 수정\n",
        "                urlretrieve(img_url, '{}/{}-{}-{}.jpg'.format(str(style[i]), str(style[i]), page_num, img_num)) \n",
        "            \n",
        "            except: #오류 시 오류 선언하고 pass\n",
        "                print('some error!(style: {}, page num: {}, img num: {})'.format(style, page_num, img_num))\n",
        "                pass\n",
        "        \n",
        "        # 뒤로가기 대신 url 재접속을 사용(오류 최소화)\n",
        "            try:\n",
        "              driver.get(url)\n",
        "              driver.implicitly_wait(10)\n",
        "              img_num += 1\n",
        "\n",
        "            except TimeoutException as ex:\n",
        "              print(ex.Message)\n",
        "              driver.navigate().refresh()\n",
        "            \n",
        "            \n",
        "        #page_num += 1\n",
        "    \n",
        "    # 하나의 스타일에 대한 cycle이 다 돌고 재설정\n",
        "    #page_num = 1 "
      ],
      "metadata": {
        "id": "qQZovJPHw7IB"
      },
      "execution_count": null,
      "outputs": []
    }
  ]
}